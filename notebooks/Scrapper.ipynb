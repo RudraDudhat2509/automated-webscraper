{
 "cells": [
  {
   "cell_type": "markdown",
   "id": "037a2234",
   "metadata": {},
   "source": [
    "# Automated Market Research Data Pipeline\n",
    "This notebook collects, cleans, and annotates real-world market research data using web scraping and LLMs. The goal is to prepare training-ready datasets in a single automated flow.\n"
   ]
  },
  {
   "cell_type": "markdown",
   "id": "640e5c4f",
   "metadata": {},
   "source": [
    "# Setup and Imports\n",
    "We load the necessary libraries for data scraping, cleaning, and annotation. This includes requests for fetching data, pandas for handling datasets, and OpenAI for LLM calls.\n"
   ]
  },
  {
   "cell_type": "code",
   "execution_count": 16,
   "id": "d1cf38f0",
   "metadata": {},
   "outputs": [],
   "source": [
    "import os\n",
    "import requests\n",
    "from dotenv import load_dotenv\n",
    "from bs4 import BeautifulSoup\n",
    "from IPython.display import Markdown, display\n",
    "from openai import OpenAI\n",
    "import pandas as pd"
   ]
  },
  {
   "cell_type": "code",
   "execution_count": 5,
   "id": "08eb23cd",
   "metadata": {},
   "outputs": [],
   "source": [
    "load_dotenv(override=True)\n",
    "api_key=os.getenv(\"OPENAI_API_KEY\")"
   ]
  },
  {
   "cell_type": "code",
   "execution_count": 6,
   "id": "1da84ad5",
   "metadata": {},
   "outputs": [
    {
     "name": "stdout",
     "output_type": "stream",
     "text": [
      "API KEY IS VALID\n"
     ]
    }
   ],
   "source": [
    "if(api_key[:8]==\"sk-proj-\"):\n",
    "    print(\"API KEY IS VALID\")\n",
    "else:\n",
    "    print(\"INVALID API KEY\")"
   ]
  },
  {
   "cell_type": "markdown",
   "id": "804067f6",
   "metadata": {},
   "source": [
    "We set custom request headers with a browser-like User-Agent so the website doesn’t block us for using a script.\n"
   ]
  },
  {
   "cell_type": "code",
   "execution_count": 7,
   "id": "063348e7",
   "metadata": {},
   "outputs": [],
   "source": [
    "headers = {\n",
    " \"User-Agent\": \"Mozilla/5.0 (Windows NT 10.0; Win64; x64) AppleWebKit/537.36 (KHTML, like Gecko) Chrome/117.0.0.0 Safari/537.36\"\n",
    "}"
   ]
  },
  {
   "cell_type": "markdown",
   "id": "775dd94b",
   "metadata": {},
   "source": [
    "We define a `Website` class to fetch a page safely. It retries on errors, removes irrelevant tags, and stores the page title and text.\n"
   ]
  },
  {
   "cell_type": "code",
   "execution_count": 8,
   "id": "a15c36e9",
   "metadata": {},
   "outputs": [],
   "source": [
    "import time\n",
    "class Website():\n",
    "    def __init__(self, url, max_retries=3, backoff=2):\n",
    "        self.url = url\n",
    "        for attempt in range(max_retries):\n",
    "            try:\n",
    "                response = requests.get(url, headers=headers, timeout=10)\n",
    "                rawtext = BeautifulSoup(response.content, 'html.parser')\n",
    "                self.title = rawtext.title.string if rawtext.title else \"No Title Found\"\n",
    "                if rawtext.body:\n",
    "                    for irrelevant in rawtext.body([\"script\", \"style\", \"img\", \"input\"]):\n",
    "                        irrelevant.decompose()\n",
    "                    self.text = rawtext.body.get_text(separator=\"\\n\", strip=True)\n",
    "                else:\n",
    "                    self.text = \"No body found\"\n",
    "                break\n",
    "            except Exception as e:\n",
    "                print(f\"Error fetching {url} (attempt {attempt+1}/{max_retries}): {e}\")\n",
    "                if attempt < max_retries - 1:\n",
    "                    time.sleep(backoff * (attempt + 1))\n",
    "                else:\n",
    "                    self.title = \"Error\"\n",
    "                    self.text = str(e)"
   ]
  },
  {
   "cell_type": "markdown",
   "id": "809a6584",
   "metadata": {},
   "source": [
    "`Example Usage`"
   ]
  },
  {
   "cell_type": "code",
   "execution_count": 9,
   "id": "b959b5d1",
   "metadata": {},
   "outputs": [
    {
     "data": {
      "text/plain": [
       "'RudraDudhat2509 (Rudra Dudhat) · GitHub'"
      ]
     },
     "execution_count": 9,
     "metadata": {},
     "output_type": "execute_result"
    }
   ],
   "source": [
    "rudra=Website(\"https://github.com/RudraDudhat2509/\")\n",
    "rudra.title"
   ]
  },
  {
   "cell_type": "code",
   "execution_count": 10,
   "id": "6ce55d2d",
   "metadata": {},
   "outputs": [
    {
     "data": {
      "text/markdown": [
       "Skip to content\n",
       "Navigation Menu\n",
       "Toggle navigation\n",
       "Sign in\n",
       "Appearance settings\n",
       "Platform\n",
       "GitHub Copilot\n",
       "Write better code with AI\n",
       "GitHub Spark\n",
       "New\n",
       "Build and deploy intelligent apps\n",
       "GitHub Models\n",
       "New\n",
       "Manage and compare prompts\n",
       "GitHub Advanced Security\n",
       "Find and fix vulnerabilities\n",
       "Actions\n",
       "Automate any workflow\n",
       "Codespaces\n",
       "Instant dev environments\n",
       "Issues\n",
       "Plan and track work\n",
       "Code Review\n",
       "Manage code changes\n",
       "Discussions\n",
       "Collaborate outside of code\n",
       "Code Search\n",
       "Find more, search less\n",
       "Explore\n",
       "Why GitHub\n",
       "Documentation\n",
       "GitHub Skills\n",
       "Blog\n",
       "Integrations\n",
       "GitHub Marketplace\n",
       "View all features\n",
       "Solutions\n",
       "By company size\n",
       "Enterprises\n",
       "Small and medium teams\n",
       "Startups\n",
       "Nonprofits\n",
       "By use case\n",
       "DevSecOps\n",
       "DevOps\n",
       "CI/CD\n",
       "View all use cases\n",
       "By industry\n",
       "Healthcare\n",
       "Financial services\n",
       "Manufacturing\n",
       "Government\n",
       "View all industries\n",
       "View all solutions\n",
       "Resources\n",
       "Topics\n",
       "AI\n",
       "DevOps\n",
       "Security\n",
       "Software Development\n",
       "View all\n",
       "Explore\n",
       "Learning Pathways\n",
       "Events & Webinars\n",
       "Ebooks & Whitepapers\n",
       "Customer Stories\n",
       "Partners\n",
       "Executive Insights\n",
       "Open Source\n",
       "GitHub Sponsors\n",
       "Fund open source developers\n",
       "The ReadME Project\n",
       "GitHub community articles\n",
       "Repositories\n",
       "Topics\n",
       "Trending\n",
       "Collections\n",
       "Enterprise\n",
       "Enterprise platform\n",
       "AI-powered developer platform\n",
       "Available add-ons\n",
       "GitHub Advanced Security\n",
       "Enterprise-grade security features\n",
       "Copilot for business\n",
       "Enterprise-grade AI features\n",
       "Premium Support\n",
       "Enterprise-grade 24/7 support\n",
       "Pricing\n",
       "Search or jump to...\n",
       "Search code, repositories, users, issues, pull requests...\n",
       "Search\n",
       "Clear\n",
       "Search syntax tips\n",
       "Provide feedback\n",
       "We read every piece of feedback, and take your input very seriously.\n",
       "Include my email address so I can be contacted\n",
       "Cancel\n",
       "Submit feedback\n",
       "Saved searches\n",
       "Use saved searches to filter your results more quickly\n",
       "Cancel\n",
       "Create saved search\n",
       "Sign in\n",
       "Sign up\n",
       "Appearance settings\n",
       "Resetting focus\n",
       "You signed in with another tab or window.\n",
       "Reload\n",
       "to refresh your session.\n",
       "You signed out in another tab or window.\n",
       "Reload\n",
       "to refresh your session.\n",
       "You switched accounts on another tab or window.\n",
       "Reload\n",
       "to refresh your session.\n",
       "Dismiss alert\n",
       "RudraDudhat2509\n",
       "Follow\n",
       "Overview\n",
       "Repositories\n",
       "6\n",
       "Projects\n",
       "0\n",
       "Packages\n",
       "0\n",
       "Stars\n",
       "4\n",
       "More\n",
       "Overview\n",
       "Repositories\n",
       "Projects\n",
       "Packages\n",
       "Stars\n",
       "RudraDudhat2509\n",
       "Follow\n",
       "Rudra Dudhat\n",
       "RudraDudhat2509\n",
       "Follow\n",
       "👋 Hi, I'm Rudra Dudhat\n",
       "🎓 B.Tech in DSAI@ IIT Bhilai  \n",
       "📈 Aspiring Quant | Machine Learning Enthusiast | Competitive Kaggler\n",
       "2\n",
       "followers\n",
       "·\n",
       "1\n",
       "following\n",
       "Student @ IIT Bhilai\n",
       "Navi Mumbai, Maharashtra, IN\n",
       "https://rudradudhat.github.io\n",
       "LinkedIn\n",
       "in/rdudhat-iitbhilai\n",
       "https://www.kaggle.com/rudrad7\n",
       "Block or Report\n",
       "Block or report RudraDudhat2509\n",
       "Report abuse\n",
       "Contact GitHub support about this user’s behavior.\n",
       "        Learn more about\n",
       "reporting abuse\n",
       ".\n",
       "Report abuse\n",
       "Overview\n",
       "Repositories\n",
       "6\n",
       "Projects\n",
       "0\n",
       "Packages\n",
       "0\n",
       "Stars\n",
       "4\n",
       "More\n",
       "Overview\n",
       "Repositories\n",
       "Projects\n",
       "Packages\n",
       "Stars\n",
       "Pinned\n",
       "Loading\n",
       "OptiQuant\n",
       "OptiQuant\n",
       "Public\n",
       "Jupyter Notebook\n",
       "Resume-\n",
       "Resume-\n",
       "Public\n",
       "Something went wrong, please refresh the page to try again.\n",
       "If the problem persists, check the\n",
       "GitHub status page\n",
       "or\n",
       "contact support\n",
       ".\n",
       "Uh oh!\n",
       "There was an error while loading.\n",
       "Please reload this page\n",
       ".\n",
       "Footer\n",
       "© 2025 GitHub, Inc.\n",
       "Footer navigation\n",
       "Terms\n",
       "Privacy\n",
       "Security\n",
       "Status\n",
       "Docs\n",
       "Contact\n",
       "Manage cookies\n",
       "Do not share my personal information\n",
       "You can’t perform that action at this time."
      ],
      "text/plain": [
       "<IPython.core.display.Markdown object>"
      ]
     },
     "metadata": {},
     "output_type": "display_data"
    }
   ],
   "source": [
    "display(Markdown(rudra.text))"
   ]
  },
  {
   "cell_type": "code",
   "execution_count": 11,
   "id": "14f54d77",
   "metadata": {},
   "outputs": [],
   "source": [
    "load_dotenv(override=True)\n",
    "SerpApi_key=os.getenv(\"SERP_API_KEY\")\n"
   ]
  },
  {
   "cell_type": "code",
   "execution_count": 12,
   "id": "b67153d1",
   "metadata": {},
   "outputs": [],
   "source": [
    "from serpapi import GoogleSearch"
   ]
  },
  {
   "cell_type": "markdown",
   "id": "005c8e01",
   "metadata": {},
   "source": [
    "This function `find_urls` uses SerpAPI to search Google with industry-specific queries.  \n",
    "It collects unique URLs related to reports, companies, trends, and insights.  \n"
   ]
  },
  {
   "cell_type": "code",
   "execution_count": 13,
   "id": "5dc4bd52",
   "metadata": {},
   "outputs": [],
   "source": [
    "def find_urls(industry_name):    \n",
    "    urls = []\n",
    "    search_queries = search_queries = [\n",
    "    f\"{industry_name} market size report\",\n",
    "    f\"{industry_name} key players list\",\n",
    "    f\"top {industry_name} companies 2025\",\n",
    "    f\"{industry_name} industry growth trends\",\n",
    "    f\"{industry_name} latest innovations\",\n",
    "    f\"{industry_name} sector challenges and opportunities\",\n",
    "    f\"{industry_name} startups 2025\",\n",
    "    f\"{industry_name} investment insights\",\n",
    "    f\"{industry_name} market forecast 2025\",\n",
    "    f\"{industry_name} mergers and acquisitions news\"\n",
    "]\n",
    "\n",
    "    try:\n",
    "        for query in search_queries:\n",
    "            params = {\n",
    "                'q': query,\n",
    "                'api_key':SerpApi_key,\n",
    "                'engine': 'google',\n",
    "                'num': 10  \n",
    "            }\n",
    "            response = requests.get('https://serpapi.com/search', params=params,timeout=10)\n",
    "            if response.status_code == 200:\n",
    "                data = response.json()\n",
    "                if 'organic_results' in data:\n",
    "                    for result in data['organic_results']:\n",
    "                        if 'link' in result:\n",
    "                            urls.append(result['link'])\n",
    "            else:\n",
    "                print(f\"Error with query '{query}': {response.status_code}\")\n",
    "    except Exception as e:\n",
    "        print(f\"Error occurred: {e}\")\n",
    "        return []\n",
    "    unique_urls = list(set(urls))\n",
    "    print(f\"Found {len(unique_urls)} unique URLs for '{industry_name}'\")\n",
    "    return unique_urls"
   ]
  },
  {
   "cell_type": "code",
   "execution_count": 14,
   "id": "b6282b8a",
   "metadata": {},
   "outputs": [],
   "source": [
    "def create_df(prompt):\n",
    "    url_list = find_urls(prompt)\n",
    "    data = []\n",
    "    for url in url_list:\n",
    "        temp=Website(url)\n",
    "        data.append({\"url\": url, \"title\": temp.title, \"text\": temp.text})\n",
    "    return pd.DataFrame(data)"
   ]
  },
  {
   "cell_type": "code",
   "execution_count": null,
   "id": "0c656e35",
   "metadata": {},
   "outputs": [],
   "source": [
    "df=create_df(\"Engineering\")"
   ]
  },
  {
   "cell_type": "code",
   "execution_count": null,
   "id": "68f0a519",
   "metadata": {},
   "outputs": [
    {
     "data": {
      "text/html": [
       "<div>\n",
       "<style scoped>\n",
       "    .dataframe tbody tr th:only-of-type {\n",
       "        vertical-align: middle;\n",
       "    }\n",
       "\n",
       "    .dataframe tbody tr th {\n",
       "        vertical-align: top;\n",
       "    }\n",
       "\n",
       "    .dataframe thead th {\n",
       "        text-align: right;\n",
       "    }\n",
       "</style>\n",
       "<table border=\"1\" class=\"dataframe\">\n",
       "  <thead>\n",
       "    <tr style=\"text-align: right;\">\n",
       "      <th></th>\n",
       "      <th>url</th>\n",
       "      <th>title</th>\n",
       "      <th>text</th>\n",
       "    </tr>\n",
       "  </thead>\n",
       "  <tbody>\n",
       "    <tr>\n",
       "      <th>0</th>\n",
       "      <td>https://enterpriseleague.com/blog/engineering-...</td>\n",
       "      <td>26 engineering startups that can change the wo...</td>\n",
       "      <td>About\\nFeatures\\nPricing\\nBlog\\nBusiness Tips\\...</td>\n",
       "    </tr>\n",
       "    <tr>\n",
       "      <th>1</th>\n",
       "      <td>https://www.pwc.com/us/en/industries/industria...</td>\n",
       "      <td>Engineering and construction industry trends: ...</td>\n",
       "      <td>Skip to content\\nSkip to footer\\nFeatured insi...</td>\n",
       "    </tr>\n",
       "    <tr>\n",
       "      <th>2</th>\n",
       "      <td>https://www.mordorintelligence.com/industry-re...</td>\n",
       "      <td>US Engineering Services Industry - Size, Trend...</td>\n",
       "      <td>Reports\\nAerospace &amp; Defense\\nAgriculture\\nAni...</td>\n",
       "    </tr>\n",
       "    <tr>\n",
       "      <th>3</th>\n",
       "      <td>https://online-engineering.case.edu/blog/innov...</td>\n",
       "      <td>Innovative Engineering Practices Driving Indus...</td>\n",
       "      <td>`\\nSkip to main content\\nPrograms\\nMaster of E...</td>\n",
       "    </tr>\n",
       "    <tr>\n",
       "      <th>4</th>\n",
       "      <td>https://www.forbes.com/sites/haniyarae/2025/03...</td>\n",
       "      <td>Meet America’s Best Startup Employers 2025</td>\n",
       "      <td>Newsletters\\nGames\\nShare a News Tip\\nFeatured...</td>\n",
       "    </tr>\n",
       "  </tbody>\n",
       "</table>\n",
       "</div>"
      ],
      "text/plain": [
       "                                                 url  \\\n",
       "0  https://enterpriseleague.com/blog/engineering-...   \n",
       "1  https://www.pwc.com/us/en/industries/industria...   \n",
       "2  https://www.mordorintelligence.com/industry-re...   \n",
       "3  https://online-engineering.case.edu/blog/innov...   \n",
       "4  https://www.forbes.com/sites/haniyarae/2025/03...   \n",
       "\n",
       "                                               title  \\\n",
       "0  26 engineering startups that can change the wo...   \n",
       "1  Engineering and construction industry trends: ...   \n",
       "2  US Engineering Services Industry - Size, Trend...   \n",
       "3  Innovative Engineering Practices Driving Indus...   \n",
       "4         Meet America’s Best Startup Employers 2025   \n",
       "\n",
       "                                                text  \n",
       "0  About\\nFeatures\\nPricing\\nBlog\\nBusiness Tips\\...  \n",
       "1  Skip to content\\nSkip to footer\\nFeatured insi...  \n",
       "2  Reports\\nAerospace & Defense\\nAgriculture\\nAni...  \n",
       "3  `\\nSkip to main content\\nPrograms\\nMaster of E...  \n",
       "4  Newsletters\\nGames\\nShare a News Tip\\nFeatured...  "
      ]
     },
     "execution_count": 55,
     "metadata": {},
     "output_type": "execute_result"
    }
   ],
   "source": [
    "df.head()"
   ]
  },
  {
   "cell_type": "code",
   "execution_count": null,
   "id": "1656d4e5",
   "metadata": {},
   "outputs": [],
   "source": [
    "df = df.dropna()"
   ]
  },
  {
   "cell_type": "code",
   "execution_count": null,
   "id": "076f8624",
   "metadata": {},
   "outputs": [],
   "source": [
    "df.to_csv(\"rawdata.csv\", index=False)"
   ]
  },
  {
   "cell_type": "code",
   "execution_count": null,
   "id": "299948b8",
   "metadata": {},
   "outputs": [
    {
     "name": "stdout",
     "output_type": "stream",
     "text": [
      "<class 'pandas.core.frame.DataFrame'>\n",
      "RangeIndex: 87 entries, 0 to 86\n",
      "Data columns (total 3 columns):\n",
      " #   Column  Non-Null Count  Dtype \n",
      "---  ------  --------------  ----- \n",
      " 0   url     87 non-null     object\n",
      " 1   title   87 non-null     object\n",
      " 2   text    87 non-null     object\n",
      "dtypes: object(3)\n",
      "memory usage: 2.2+ KB\n"
     ]
    }
   ],
   "source": [
    "df.info()"
   ]
  }
 ],
 "metadata": {
  "kernelspec": {
   "display_name": "llms",
   "language": "python",
   "name": "python3"
  },
  "language_info": {
   "codemirror_mode": {
    "name": "ipython",
    "version": 3
   },
   "file_extension": ".py",
   "mimetype": "text/x-python",
   "name": "python",
   "nbconvert_exporter": "python",
   "pygments_lexer": "ipython3",
   "version": "3.11.13"
  }
 },
 "nbformat": 4,
 "nbformat_minor": 5
}
