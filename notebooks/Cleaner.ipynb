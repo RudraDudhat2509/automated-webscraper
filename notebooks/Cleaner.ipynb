{
 "cells": [
  {
   "cell_type": "code",
   "execution_count": 1,
   "id": "6ae92df6",
   "metadata": {},
   "outputs": [],
   "source": [
    "import os\n",
    "import requests\n",
    "from dotenv import load_dotenv\n",
    "from bs4 import BeautifulSoup\n",
    "from IPython.display import Markdown, display\n",
    "from openai import OpenAI\n",
    "import pandas as pd"
   ]
  },
  {
   "cell_type": "code",
   "execution_count": 2,
   "id": "60381821",
   "metadata": {},
   "outputs": [],
   "source": [
    "load_dotenv(override=True)\n",
    "api_key=os.getenv(\"OPENAI_API_KEY\")"
   ]
  },
  {
   "cell_type": "code",
   "execution_count": 3,
   "id": "fa0060b0",
   "metadata": {},
   "outputs": [
    {
     "name": "stdout",
     "output_type": "stream",
     "text": [
      "API KEY VALID\n"
     ]
    }
   ],
   "source": [
    "if(api_key[:8]==\"sk-proj-\"):\n",
    "    print(\"API KEY VALID\")"
   ]
  },
  {
   "cell_type": "code",
   "execution_count": 5,
   "id": "fb07b2fd",
   "metadata": {},
   "outputs": [],
   "source": [
    "model=\"gpt-4o-mini\"\n",
    "openai=OpenAI()"
   ]
  },
  {
   "cell_type": "code",
   "execution_count": 59,
   "id": "4c47b30d",
   "metadata": {},
   "outputs": [],
   "source": [
    "system_prompt=\"\"\"You are a text cleaner.\n",
    "\n",
    "Given raw scraped text, clean it by:\n",
    "\n",
    "**Remove:**\n",
    "- Navigation elements (\"Skip to content\", \"Log in\", \"Search\", \"Home | About\")\n",
    "- Boilerplate (\"All rights reserved\", \"Cookie policy\", \"Subscribe\") \n",
    "- HTML artifacts (&amp;, &quot;, extra whitespace)\n",
    "- Duplicate sentences\n",
    "\n",
    "**Fix:**\n",
    "- Extra whitespace and line breaks\n",
    "- Encoding issues  \n",
    "- Inconsistent punctuation\n",
    "\n",
    "Return only the cleaned text, preserving all meaningful business content. Give the text with length of 1000 characters. Dont include generic phrases like \"The article discusses...\".\n",
    "\"\"\""
   ]
  },
  {
   "cell_type": "code",
   "execution_count": 34,
   "id": "53dc8b54",
   "metadata": {},
   "outputs": [],
   "source": [
    "df=pd.read_csv(\"rawdata.csv\")"
   ]
  },
  {
   "cell_type": "code",
   "execution_count": 35,
   "id": "ca768e67",
   "metadata": {},
   "outputs": [
    {
     "data": {
      "text/html": [
       "<div>\n",
       "<style scoped>\n",
       "    .dataframe tbody tr th:only-of-type {\n",
       "        vertical-align: middle;\n",
       "    }\n",
       "\n",
       "    .dataframe tbody tr th {\n",
       "        vertical-align: top;\n",
       "    }\n",
       "\n",
       "    .dataframe thead th {\n",
       "        text-align: right;\n",
       "    }\n",
       "</style>\n",
       "<table border=\"1\" class=\"dataframe\">\n",
       "  <thead>\n",
       "    <tr style=\"text-align: right;\">\n",
       "      <th></th>\n",
       "      <th>url</th>\n",
       "      <th>title</th>\n",
       "      <th>text</th>\n",
       "    </tr>\n",
       "  </thead>\n",
       "  <tbody>\n",
       "    <tr>\n",
       "      <th>0</th>\n",
       "      <td>https://enterpriseleague.com/blog/engineering-...</td>\n",
       "      <td>26 engineering startups that can change the wo...</td>\n",
       "      <td>About\\nFeatures\\nPricing\\nBlog\\nBusiness Tips\\...</td>\n",
       "    </tr>\n",
       "    <tr>\n",
       "      <th>1</th>\n",
       "      <td>https://www.pwc.com/us/en/industries/industria...</td>\n",
       "      <td>Engineering and construction industry trends: ...</td>\n",
       "      <td>Skip to content\\nSkip to footer\\nFeatured insi...</td>\n",
       "    </tr>\n",
       "    <tr>\n",
       "      <th>2</th>\n",
       "      <td>https://www.mordorintelligence.com/industry-re...</td>\n",
       "      <td>US Engineering Services Industry - Size, Trend...</td>\n",
       "      <td>Reports\\nAerospace &amp; Defense\\nAgriculture\\nAni...</td>\n",
       "    </tr>\n",
       "    <tr>\n",
       "      <th>3</th>\n",
       "      <td>https://online-engineering.case.edu/blog/innov...</td>\n",
       "      <td>Innovative Engineering Practices Driving Indus...</td>\n",
       "      <td>`\\nSkip to main content\\nPrograms\\nMaster of E...</td>\n",
       "    </tr>\n",
       "    <tr>\n",
       "      <th>4</th>\n",
       "      <td>https://www.forbes.com/sites/haniyarae/2025/03...</td>\n",
       "      <td>Meet America’s Best Startup Employers 2025</td>\n",
       "      <td>Newsletters\\nGames\\nShare a News Tip\\nFeatured...</td>\n",
       "    </tr>\n",
       "  </tbody>\n",
       "</table>\n",
       "</div>"
      ],
      "text/plain": [
       "                                                 url  \\\n",
       "0  https://enterpriseleague.com/blog/engineering-...   \n",
       "1  https://www.pwc.com/us/en/industries/industria...   \n",
       "2  https://www.mordorintelligence.com/industry-re...   \n",
       "3  https://online-engineering.case.edu/blog/innov...   \n",
       "4  https://www.forbes.com/sites/haniyarae/2025/03...   \n",
       "\n",
       "                                               title  \\\n",
       "0  26 engineering startups that can change the wo...   \n",
       "1  Engineering and construction industry trends: ...   \n",
       "2  US Engineering Services Industry - Size, Trend...   \n",
       "3  Innovative Engineering Practices Driving Indus...   \n",
       "4         Meet America’s Best Startup Employers 2025   \n",
       "\n",
       "                                                text  \n",
       "0  About\\nFeatures\\nPricing\\nBlog\\nBusiness Tips\\...  \n",
       "1  Skip to content\\nSkip to footer\\nFeatured insi...  \n",
       "2  Reports\\nAerospace & Defense\\nAgriculture\\nAni...  \n",
       "3  `\\nSkip to main content\\nPrograms\\nMaster of E...  \n",
       "4  Newsletters\\nGames\\nShare a News Tip\\nFeatured...  "
      ]
     },
     "execution_count": 35,
     "metadata": {},
     "output_type": "execute_result"
    }
   ],
   "source": [
    "df.head()"
   ]
  },
  {
   "cell_type": "markdown",
   "id": "07f8ff06",
   "metadata": {},
   "source": [
    "We use LLMS to clean the irrelevant information like Navigation Elements, or BoilerPlate. This is overall more reliable for longer text than the typical regex approach, \n",
    "i use `gpt-4o-mini` as it is insanely cost effective yet super accurate with a good prompt."
   ]
  },
  {
   "cell_type": "code",
   "execution_count": 60,
   "id": "1db29824",
   "metadata": {},
   "outputs": [],
   "source": [
    "def cleaner(text):\n",
    "    response= openai.chat.completions.create(\n",
    "        model=model,\n",
    "        messages=[\n",
    "            {\"role\": \"system\", \"content\": system_prompt},\n",
    "            {\"role\": \"user\", \"content\": text}\n",
    "        ],\n",
    "        temperature=0.2\n",
    "    )\n",
    "    return response.choices[0].message.content"
   ]
  },
  {
   "cell_type": "code",
   "execution_count": 54,
   "id": "98fba58a",
   "metadata": {},
   "outputs": [],
   "source": [
    "df = df.dropna(subset=['text'])"
   ]
  },
  {
   "cell_type": "code",
   "execution_count": 61,
   "id": "086bd28a",
   "metadata": {},
   "outputs": [],
   "source": [
    "\n",
    "df_sample = df.dropna(subset=['text'])\n",
    "df_sample['cleaned_text'] = df_sample['text'].apply(cleaner)"
   ]
  },
  {
   "cell_type": "code",
   "execution_count": 62,
   "id": "97a9c948",
   "metadata": {},
   "outputs": [
    {
     "data": {
      "text/markdown": [
       "During the past twenty years, significant changes have occurred in society, largely driven by outstanding technological innovations. The engineering industry, in particular, has seen a revolution, with startups creating innovative products to solve problems or provide better alternatives to existing solutions. Engineering startups focus on developing solutions across various sectors, from robotics to healthcare, often fulfilling unmet market needs.\n",
       "\n",
       "Notable engineering startups include:\n",
       "\n",
       "- **Virtual Facility**: Founded in 2018, it addresses alarm fatigue in industrial settings using machine learning to prioritize alarms based on significance.\n",
       "  \n",
       "- **nTopology**: This company offers a 3D modeling platform for product design, facilitating collaboration among engineers and clients like Lockheed Martin.\n",
       "\n",
       "- **Arch Engineers**: Provides life-cycle engineering services, focusing on innovative solutions for clients in oil and gas, mining, and infrastructure.\n",
       "\n",
       "- **Carnot**: Aims to reduce global CO2 emissions by revolutionizing power generation for marine craft and heavy vehicles.\n",
       "\n",
       "- **Existo**: Develops solutions for people with disabilities, promoting health and wellness through innovative wearable technology.\n",
       "\n",
       "These startups exemplify the creativity and flexibility that define the engineering sector, allowing them to thrive in a competitive landscape."
      ],
      "text/plain": [
       "<IPython.core.display.Markdown object>"
      ]
     },
     "metadata": {},
     "output_type": "display_data"
    }
   ],
   "source": [
    "display(Markdown(df_sample['cleaned_text'][0]))"
   ]
  },
  {
   "cell_type": "code",
   "execution_count": null,
   "id": "41141238",
   "metadata": {},
   "outputs": [],
   "source": [
    "df_sample.drop(columns=['text'], inplace=True)"
   ]
  },
  {
   "cell_type": "code",
   "execution_count": 66,
   "id": "a5d9b7e6",
   "metadata": {},
   "outputs": [
    {
     "data": {
      "text/html": [
       "<div>\n",
       "<style scoped>\n",
       "    .dataframe tbody tr th:only-of-type {\n",
       "        vertical-align: middle;\n",
       "    }\n",
       "\n",
       "    .dataframe tbody tr th {\n",
       "        vertical-align: top;\n",
       "    }\n",
       "\n",
       "    .dataframe thead th {\n",
       "        text-align: right;\n",
       "    }\n",
       "</style>\n",
       "<table border=\"1\" class=\"dataframe\">\n",
       "  <thead>\n",
       "    <tr style=\"text-align: right;\">\n",
       "      <th></th>\n",
       "      <th>url</th>\n",
       "      <th>title</th>\n",
       "      <th>cleaned_text</th>\n",
       "    </tr>\n",
       "  </thead>\n",
       "  <tbody>\n",
       "    <tr>\n",
       "      <th>0</th>\n",
       "      <td>https://enterpriseleague.com/blog/engineering-...</td>\n",
       "      <td>26 engineering startups that can change the wo...</td>\n",
       "      <td>During the past twenty years, significant chan...</td>\n",
       "    </tr>\n",
       "    <tr>\n",
       "      <th>1</th>\n",
       "      <td>https://www.pwc.com/us/en/industries/industria...</td>\n",
       "      <td>Engineering and construction industry trends: ...</td>\n",
       "      <td>The engineering and construction (E&amp;C) sector ...</td>\n",
       "    </tr>\n",
       "    <tr>\n",
       "      <th>2</th>\n",
       "      <td>https://www.mordorintelligence.com/industry-re...</td>\n",
       "      <td>US Engineering Services Industry - Size, Trend...</td>\n",
       "      <td>The United States Engineering Services Market ...</td>\n",
       "    </tr>\n",
       "    <tr>\n",
       "      <th>3</th>\n",
       "      <td>https://online-engineering.case.edu/blog/innov...</td>\n",
       "      <td>Innovative Engineering Practices Driving Indus...</td>\n",
       "      <td>Engineers spearhead new developments that are ...</td>\n",
       "    </tr>\n",
       "    <tr>\n",
       "      <th>4</th>\n",
       "      <td>https://www.forbes.com/sites/haniyarae/2025/03...</td>\n",
       "      <td>Meet America’s Best Startup Employers 2025</td>\n",
       "      <td>Inside the lab at Lunar Energy’s headquarters ...</td>\n",
       "    </tr>\n",
       "    <tr>\n",
       "      <th>5</th>\n",
       "      <td>https://www.acec.org/resources/market-intellig...</td>\n",
       "      <td>Industry Insights - ACEC</td>\n",
       "      <td>ACEC releases monthly economic updates that in...</td>\n",
       "    </tr>\n",
       "    <tr>\n",
       "      <th>6</th>\n",
       "      <td>https://www.borntoengineer.com/resources/how-e...</td>\n",
       "      <td>How Engineering Is Evolving To Meet The Challe...</td>\n",
       "      <td>How Engineering is Evolving To Meet The Challe...</td>\n",
       "    </tr>\n",
       "    <tr>\n",
       "      <th>7</th>\n",
       "      <td>https://www.kimley-horn.com/news-insights/awar...</td>\n",
       "      <td>2025 ENR Rankings | Kimley-Horn</td>\n",
       "      <td>Kimley-Horn has been recognized in the 2025 En...</td>\n",
       "    </tr>\n",
       "    <tr>\n",
       "      <th>8</th>\n",
       "      <td>https://imaa-institute.org/m-and-a-news/weekly...</td>\n",
       "      <td>M&amp;A News: Global M&amp;A Deals Week of August 4 to...</td>\n",
       "      <td>The Institute for Mergers, Acquisitions and Al...</td>\n",
       "    </tr>\n",
       "    <tr>\n",
       "      <th>9</th>\n",
       "      <td>https://addisongroup.com/insights/engineering-...</td>\n",
       "      <td>Engineering hiring trends, in-demand jobs &amp; to...</td>\n",
       "      <td>Engineering hiring trends indicate a current r...</td>\n",
       "    </tr>\n",
       "  </tbody>\n",
       "</table>\n",
       "</div>"
      ],
      "text/plain": [
       "                                                 url  \\\n",
       "0  https://enterpriseleague.com/blog/engineering-...   \n",
       "1  https://www.pwc.com/us/en/industries/industria...   \n",
       "2  https://www.mordorintelligence.com/industry-re...   \n",
       "3  https://online-engineering.case.edu/blog/innov...   \n",
       "4  https://www.forbes.com/sites/haniyarae/2025/03...   \n",
       "5  https://www.acec.org/resources/market-intellig...   \n",
       "6  https://www.borntoengineer.com/resources/how-e...   \n",
       "7  https://www.kimley-horn.com/news-insights/awar...   \n",
       "8  https://imaa-institute.org/m-and-a-news/weekly...   \n",
       "9  https://addisongroup.com/insights/engineering-...   \n",
       "\n",
       "                                               title  \\\n",
       "0  26 engineering startups that can change the wo...   \n",
       "1  Engineering and construction industry trends: ...   \n",
       "2  US Engineering Services Industry - Size, Trend...   \n",
       "3  Innovative Engineering Practices Driving Indus...   \n",
       "4         Meet America’s Best Startup Employers 2025   \n",
       "5                           Industry Insights - ACEC   \n",
       "6  How Engineering Is Evolving To Meet The Challe...   \n",
       "7                    2025 ENR Rankings | Kimley-Horn   \n",
       "8  M&A News: Global M&A Deals Week of August 4 to...   \n",
       "9  Engineering hiring trends, in-demand jobs & to...   \n",
       "\n",
       "                                        cleaned_text  \n",
       "0  During the past twenty years, significant chan...  \n",
       "1  The engineering and construction (E&C) sector ...  \n",
       "2  The United States Engineering Services Market ...  \n",
       "3  Engineers spearhead new developments that are ...  \n",
       "4  Inside the lab at Lunar Energy’s headquarters ...  \n",
       "5  ACEC releases monthly economic updates that in...  \n",
       "6  How Engineering is Evolving To Meet The Challe...  \n",
       "7  Kimley-Horn has been recognized in the 2025 En...  \n",
       "8  The Institute for Mergers, Acquisitions and Al...  \n",
       "9  Engineering hiring trends indicate a current r...  "
      ]
     },
     "execution_count": 66,
     "metadata": {},
     "output_type": "execute_result"
    }
   ],
   "source": [
    "df_sample.head(10)"
   ]
  },
  {
   "cell_type": "code",
   "execution_count": 67,
   "id": "ab5563dc",
   "metadata": {},
   "outputs": [],
   "source": [
    "df_sample.to_csv(\"cleaned_data.csv\", index=False)  "
   ]
  },
  {
   "cell_type": "code",
   "execution_count": null,
   "id": "10ba2af3",
   "metadata": {},
   "outputs": [],
   "source": []
  }
 ],
 "metadata": {
  "kernelspec": {
   "display_name": "llms",
   "language": "python",
   "name": "python3"
  },
  "language_info": {
   "codemirror_mode": {
    "name": "ipython",
    "version": 3
   },
   "file_extension": ".py",
   "mimetype": "text/x-python",
   "name": "python",
   "nbconvert_exporter": "python",
   "pygments_lexer": "ipython3",
   "version": "3.11.13"
  }
 },
 "nbformat": 4,
 "nbformat_minor": 5
}
