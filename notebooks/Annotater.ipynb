{
 "cells": [
  {
   "cell_type": "code",
   "execution_count": 156,
   "id": "740c2b19",
   "metadata": {},
   "outputs": [],
   "source": [
    "\n",
    "import pandas as pd\n",
    "from openai import OpenAI\n",
    "from dotenv import load_dotenv\n",
    "import os\n",
    "df = pd.read_csv(\"cleaned_data.csv\")"
   ]
  },
  {
   "cell_type": "code",
   "execution_count": 157,
   "id": "ec2bf4c7",
   "metadata": {},
   "outputs": [
    {
     "name": "stdout",
     "output_type": "stream",
     "text": [
      "Valid API key\n"
     ]
    }
   ],
   "source": [
    "load_dotenv(override=True)\n",
    "api_key = os.getenv(\"OPENAI_API_KEY\")\n",
    "if(api_key[:8]==\"sk-proj-\"):\n",
    "    print(\"Valid API key\")"
   ]
  },
  {
   "cell_type": "code",
   "execution_count": 158,
   "id": "33df8f42",
   "metadata": {},
   "outputs": [],
   "source": [
    "openai=OpenAI()"
   ]
  },
  {
   "cell_type": "code",
   "execution_count": 159,
   "id": "7e3d7085",
   "metadata": {},
   "outputs": [],
   "source": [
    "tag_generation_prompt = \"\"\"You are a data extraction specialist creating annotation schemas for machine learning datasets.\n",
    "\n",
    "Analyze the provided text content and generate 4 specific extraction labels that capture concrete, factual information present in the text.\n",
    "\n",
    "REQUIREMENTS:\n",
    "- Labels must extract specific entities, names, terms, or measurable data\n",
    "- Avoid generic business categories or analytical interpretations\n",
    "- Focus on information that would be valuable for training ML models\n",
    "- Each label should target different types of factual content\n",
    "\n",
    "GOOD LABEL EXAMPLES:\n",
    "- \"Company Names Mentioned\" (extracts: \"Tesla, SpaceX, Neuralink\")\n",
    "- \"Specific Technologies\" (extracts: \"machine learning, blockchain, quantum computing\") \n",
    "- \"Funding Amounts\" (extracts: \"$10M Series A, $50M funding round\")\n",
    "- \"Geographic Locations\" (extracts: \"Silicon Valley, New York, London\")\n",
    "- \"Job Titles Referenced\" (extracts: \"CEO, Data Scientist, Product Manager\")\n",
    "- \"Product Features\" (extracts: \"real-time analytics, automated reporting\")\n",
    "\n",
    "BAD LABEL EXAMPLES:\n",
    "- \"Market Trends\" (too analytical)\n",
    "- \"Industry Analysis\" (too broad)\n",
    "- \"Future Outlook\" (subjective interpretation)\n",
    "- \"General Insights\" (vague)\n",
    "\n",
    "DOMAIN-SPECIFIC GUIDANCE:\n",
    "- For startup/business content: Focus on company names, funding, locations, technologies\n",
    "- For technical content: Emphasize specific tools, methodologies, metrics, standards\n",
    "- For industry reports: Target companies, market sizes, growth rates, key players\n",
    "- For job-related content: Extract skills, roles, companies, requirements\n",
    "\n",
    "OUTPUT FORMAT:\n",
    "Return exactly 4 labels as comma-separated strings with no additional text, explanations, or formatting.\n",
    "\n",
    "Example output: \"Startup Names, Funding Rounds, Technology Stack, Geographic Markets\"\n",
    "\"\"\"\n"
   ]
  },
  {
   "cell_type": "code",
   "execution_count": 160,
   "id": "4c16bc87",
   "metadata": {},
   "outputs": [],
   "source": [
    "def call_llm_for_tags(text):\n",
    "    prompt = f\"Identify 3-4 relevant annotation labels for the domain from this text:\\n\\n{text}\"\n",
    "    response = openai.chat.completions.create(\n",
    "        model=\"gpt-4o-mini\",\n",
    "        messages=[{\"role\":\"system\",\"content\":tag_generation_prompt},\n",
    "            {\"role\":\"user\",\"content\":prompt}]\n",
    "    )\n",
    "    raw_response = response.choices[0].message.content.strip()\n",
    "    raw_response = raw_response.strip('[]\"\\'')\n",
    "    tags = [tag.strip(' \"\\'') for tag in raw_response.split(',')]\n",
    "    return tags"
   ]
  },
  {
   "cell_type": "code",
   "execution_count": 161,
   "id": "4b6cd7bc",
   "metadata": {},
   "outputs": [],
   "source": [
    "content_annotation_prompt = \"\"\"You are a precision data extractor for machine learning training datasets.\n",
    "\n",
    "Given a text and a single extraction label, identify and extract the exact factual information requested by that label from the content. Return concrete, specific values found in the text.\n",
    "\n",
    "EXTRACTION PRINCIPLES:\n",
    "1. ONLY extract information explicitly mentioned in the text\n",
    "2. Use exact names, terms, and phrases from the source material\n",
    "3. If multiple items exist for the label, separate them with commas\n",
    "3. Prioritize proper nouns, specific numbers, and concrete terms over generic descriptions\n",
    "\n",
    "FORMATTING RULES:\n",
    "- Return only the extracted value(s) with no label prefix\n",
    "- Keep extracted values concise but specific\n",
    "- Maintain original capitalization from source text\n",
    "- No explanations, headers, or additional formatting\n",
    "\n",
    "EXTRACTION EXAMPLES:\n",
    "\n",
    "Text: \"Tesla raised $2B in Series C funding to expand manufacturing in Texas and California\"\n",
    "Label: \"Company Names\"\n",
    "Output: \"Tesla\"\n",
    "\n",
    "Label: \"Funding Amounts\" \n",
    "Output: \"$2B Series C\"\n",
    "\n",
    "Label: \"Geographic Locations\"\n",
    "Output: \"Texas, California\"\n",
    "\n",
    "Text: \"The startup uses React, Node.js, and MongoDB to build real-time analytics dashboards\"\n",
    "Label: \"Technology Stack\"\n",
    "Output: \"React, Node.js, MongoDB\"\n",
    "\n",
    "Label: \"Product Features\"\n",
    "Output: \"real-time analytics dashboards\"\n",
    "\n",
    "\n",
    "QUALITY CHECKS:\n",
    "- Verify each extracted value appears in the original text\n",
    "- Avoid paraphrasing - use exact wording when possible\n",
    "- Don't infer information not explicitly stated\n",
    "- Don't add context or explanations\n",
    "- Don't use generic business terms unless they appear in the text\n",
    "\n",
    "Remember: Extract facts, not interpretations. Return only the specific information requested by the single label provided.\"\"\""
   ]
  },
  {
   "cell_type": "code",
   "execution_count": 162,
   "id": "03ef1421",
   "metadata": {},
   "outputs": [],
   "source": [
    "from io import StringIO\n",
    "\n",
    "\n",
    "def call_llm_for_annotation(text, tags):\n",
    "    user_prompt = f\"Tags: {tags}\\n\\nText:\\n{text}\"\n",
    "    response = openai.chat.completions.create(\n",
    "        model=\"gpt-4o-mini\",\n",
    "        messages=[\n",
    "            {\"role\":\"system\",\"content\":content_annotation_prompt},\n",
    "            {\"role\":\"user\",\"content\":user_prompt}\n",
    "        ]\n",
    "    )\n",
    "    \n",
    "    return response.choices[0].message.content.strip()\n",
    "    \n"
   ]
  },
  {
   "cell_type": "code",
   "execution_count": 166,
   "id": "71153f0e",
   "metadata": {},
   "outputs": [],
   "source": [
    "tags = call_llm_for_tags(df.iloc[0:10]['cleaned_text'])"
   ]
  },
  {
   "cell_type": "code",
   "execution_count": 167,
   "id": "b3ee2b9e",
   "metadata": {},
   "outputs": [
    {
     "data": {
      "text/plain": [
       "['Company Names Mentioned',\n",
       " 'Market Size Estimates',\n",
       " 'Industry Reports',\n",
       " 'Economic Trends']"
      ]
     },
     "execution_count": 167,
     "metadata": {},
     "output_type": "execute_result"
    }
   ],
   "source": [
    "tags"
   ]
  },
  {
   "cell_type": "code",
   "execution_count": 168,
   "id": "05214f7f",
   "metadata": {},
   "outputs": [],
   "source": [
    "for i in tags:\n",
    "    df[f\"{i}\"]=df['cleaned_text'].apply(lambda x: call_llm_for_annotation(x, i))"
   ]
  },
  {
   "cell_type": "code",
   "execution_count": 169,
   "id": "3f8e8242",
   "metadata": {},
   "outputs": [
    {
     "data": {
      "text/html": [
       "<div>\n",
       "<style scoped>\n",
       "    .dataframe tbody tr th:only-of-type {\n",
       "        vertical-align: middle;\n",
       "    }\n",
       "\n",
       "    .dataframe tbody tr th {\n",
       "        vertical-align: top;\n",
       "    }\n",
       "\n",
       "    .dataframe thead th {\n",
       "        text-align: right;\n",
       "    }\n",
       "</style>\n",
       "<table border=\"1\" class=\"dataframe\">\n",
       "  <thead>\n",
       "    <tr style=\"text-align: right;\">\n",
       "      <th></th>\n",
       "      <th>url</th>\n",
       "      <th>title</th>\n",
       "      <th>cleaned_text</th>\n",
       "      <th>Company Names Mentioned</th>\n",
       "      <th>Market Size Estimates</th>\n",
       "      <th>Industry Reports</th>\n",
       "      <th>Economic Trends</th>\n",
       "    </tr>\n",
       "  </thead>\n",
       "  <tbody>\n",
       "    <tr>\n",
       "      <th>0</th>\n",
       "      <td>https://enterpriseleague.com/blog/engineering-...</td>\n",
       "      <td>26 engineering startups that can change the wo...</td>\n",
       "      <td>During the past twenty years, significant chan...</td>\n",
       "      <td>Virtual Facility, nTopology, Arch Engineers, C...</td>\n",
       "      <td></td>\n",
       "      <td>Virtual Facility, nTopology, Arch Engineers, C...</td>\n",
       "      <td>Virtual Facility, nTopology, Arch Engineers, C...</td>\n",
       "    </tr>\n",
       "    <tr>\n",
       "      <th>1</th>\n",
       "      <td>https://www.pwc.com/us/en/industries/industria...</td>\n",
       "      <td>Engineering and construction industry trends: ...</td>\n",
       "      <td>The engineering and construction (E&amp;C) sector ...</td>\n",
       "      <td>E&amp;C, Donald J. Trump, Inflation Reduction Act ...</td>\n",
       "      <td>$10.2 trillion, $15.2 trillion</td>\n",
       "      <td>$10.2 trillion, $15.2 trillion, 2020, 2030, In...</td>\n",
       "      <td>US$10.2 trillion, $15.2 trillion, 2020, 2030</td>\n",
       "    </tr>\n",
       "    <tr>\n",
       "      <th>2</th>\n",
       "      <td>https://www.mordorintelligence.com/industry-re...</td>\n",
       "      <td>US Engineering Services Industry - Size, Trend...</td>\n",
       "      <td>The United States Engineering Services Market ...</td>\n",
       "      <td>United States Engineering Services Market, Inf...</td>\n",
       "      <td>USD 175.21 billion in 2025, USD 271.01 billion...</td>\n",
       "      <td>USD 175.21 billion, USD 271.01 billion, 9.12%,...</td>\n",
       "      <td>USD 175.21 billion, USD 271.01 billion, 9.12%,...</td>\n",
       "    </tr>\n",
       "    <tr>\n",
       "      <th>3</th>\n",
       "      <td>https://online-engineering.case.edu/blog/innov...</td>\n",
       "      <td>Innovative Engineering Practices Driving Indus...</td>\n",
       "      <td>Engineers spearhead new developments that are ...</td>\n",
       "      <td>Case Western Reserve University</td>\n",
       "      <td></td>\n",
       "      <td>Mechanical Engineering, Industry 4.0, Internet...</td>\n",
       "      <td>Industry 4.0, Internet of Things (IoT), cloud ...</td>\n",
       "    </tr>\n",
       "    <tr>\n",
       "      <th>4</th>\n",
       "      <td>https://www.forbes.com/sites/haniyarae/2025/03...</td>\n",
       "      <td>Meet America’s Best Startup Employers 2025</td>\n",
       "      <td>Inside the lab at Lunar Energy’s headquarters ...</td>\n",
       "      <td>Lunar Energy, Cribl, Wiz, Hightouch, Anthropic</td>\n",
       "      <td>No data found</td>\n",
       "      <td>Lunar Energy, 2020, California, London, No. 4,...</td>\n",
       "      <td>Lunar Energy, 2020, California, London, No. 4,...</td>\n",
       "    </tr>\n",
       "  </tbody>\n",
       "</table>\n",
       "</div>"
      ],
      "text/plain": [
       "                                                 url  \\\n",
       "0  https://enterpriseleague.com/blog/engineering-...   \n",
       "1  https://www.pwc.com/us/en/industries/industria...   \n",
       "2  https://www.mordorintelligence.com/industry-re...   \n",
       "3  https://online-engineering.case.edu/blog/innov...   \n",
       "4  https://www.forbes.com/sites/haniyarae/2025/03...   \n",
       "\n",
       "                                               title  \\\n",
       "0  26 engineering startups that can change the wo...   \n",
       "1  Engineering and construction industry trends: ...   \n",
       "2  US Engineering Services Industry - Size, Trend...   \n",
       "3  Innovative Engineering Practices Driving Indus...   \n",
       "4         Meet America’s Best Startup Employers 2025   \n",
       "\n",
       "                                        cleaned_text  \\\n",
       "0  During the past twenty years, significant chan...   \n",
       "1  The engineering and construction (E&C) sector ...   \n",
       "2  The United States Engineering Services Market ...   \n",
       "3  Engineers spearhead new developments that are ...   \n",
       "4  Inside the lab at Lunar Energy’s headquarters ...   \n",
       "\n",
       "                             Company Names Mentioned  \\\n",
       "0  Virtual Facility, nTopology, Arch Engineers, C...   \n",
       "1  E&C, Donald J. Trump, Inflation Reduction Act ...   \n",
       "2  United States Engineering Services Market, Inf...   \n",
       "3                    Case Western Reserve University   \n",
       "4     Lunar Energy, Cribl, Wiz, Hightouch, Anthropic   \n",
       "\n",
       "                               Market Size Estimates  \\\n",
       "0                                                      \n",
       "1                     $10.2 trillion, $15.2 trillion   \n",
       "2  USD 175.21 billion in 2025, USD 271.01 billion...   \n",
       "3                                                      \n",
       "4                                      No data found   \n",
       "\n",
       "                                    Industry Reports  \\\n",
       "0  Virtual Facility, nTopology, Arch Engineers, C...   \n",
       "1  $10.2 trillion, $15.2 trillion, 2020, 2030, In...   \n",
       "2  USD 175.21 billion, USD 271.01 billion, 9.12%,...   \n",
       "3  Mechanical Engineering, Industry 4.0, Internet...   \n",
       "4  Lunar Energy, 2020, California, London, No. 4,...   \n",
       "\n",
       "                                     Economic Trends  \n",
       "0  Virtual Facility, nTopology, Arch Engineers, C...  \n",
       "1       US$10.2 trillion, $15.2 trillion, 2020, 2030  \n",
       "2  USD 175.21 billion, USD 271.01 billion, 9.12%,...  \n",
       "3  Industry 4.0, Internet of Things (IoT), cloud ...  \n",
       "4  Lunar Energy, 2020, California, London, No. 4,...  "
      ]
     },
     "execution_count": 169,
     "metadata": {},
     "output_type": "execute_result"
    }
   ],
   "source": [
    "df.head()"
   ]
  },
  {
   "cell_type": "code",
   "execution_count": 174,
   "id": "8fab3389",
   "metadata": {},
   "outputs": [
    {
     "data": {
      "text/plain": [
       "80.0"
      ]
     },
     "execution_count": 174,
     "metadata": {},
     "output_type": "execute_result"
    }
   ],
   "source": [
    "dataquality=(df['Company Names Mentioned'].nunique()/len(df))*100\n",
    "dataquality"
   ]
  },
  {
   "cell_type": "code",
   "execution_count": 175,
   "id": "f9dba237",
   "metadata": {},
   "outputs": [],
   "source": [
    "df.to_csv(\"annotated_data.csv\", index=False)"
   ]
  },
  {
   "cell_type": "code",
   "execution_count": null,
   "id": "e3640973",
   "metadata": {},
   "outputs": [],
   "source": []
  }
 ],
 "metadata": {
  "kernelspec": {
   "display_name": "llms",
   "language": "python",
   "name": "python3"
  },
  "language_info": {
   "codemirror_mode": {
    "name": "ipython",
    "version": 3
   },
   "file_extension": ".py",
   "mimetype": "text/x-python",
   "name": "python",
   "nbconvert_exporter": "python",
   "pygments_lexer": "ipython3",
   "version": "3.11.13"
  }
 },
 "nbformat": 4,
 "nbformat_minor": 5
}
